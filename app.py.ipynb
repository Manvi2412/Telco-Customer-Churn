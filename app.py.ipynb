{
 "cells": [
  {
   "cell_type": "code",
   "execution_count": 1,
   "id": "dc72b4e3-b935-4938-93e8-1552177e2a44",
   "metadata": {},
   "outputs": [
    {
     "name": "stderr",
     "output_type": "stream",
     "text": [
      "2025-06-26 23:08:22.564 \n",
      "  \u001b[33m\u001b[1mWarning:\u001b[0m to view this Streamlit app on a browser, run it with the following\n",
      "  command:\n",
      "\n",
      "    streamlit run C:\\Users\\DELL\\anaconda3\\Lib\\site-packages\\ipykernel_launcher.py [ARGUMENTS]\n",
      "2025-06-26 23:08:22.582 Session state does not function when running a script without `streamlit run`\n"
     ]
    }
   ],
   "source": [
    "import streamlit as st\n",
    "import pandas as pd\n",
    "import numpy as np\n",
    "import joblib\n",
    "\n",
    "# Load the model\n",
    "model = joblib.load(\"telco_churn_model.pkl\")\n",
    "\n",
    "st.set_page_config(page_title=\"Telco Churn Predictor\", page_icon=\"📞\")\n",
    "st.title(\"📞 Telco Customer Churn Predictor\")\n",
    "\n",
    "st.markdown(\"Enter customer details below to predict if they'll churn.\")\n",
    "\n",
    "# Input features\n",
    "gender = st.selectbox(\"Gender\", [\"Male\", \"Female\"])\n",
    "senior = st.selectbox(\"Senior Citizen\", [\"No\", \"Yes\"])\n",
    "partner = st.selectbox(\"Has Partner?\", [\"No\", \"Yes\"])\n",
    "dependents = st.selectbox(\"Has Dependents?\", [\"No\", \"Yes\"])\n",
    "tenure = st.slider(\"Tenure (months)\", 0, 72, 12)\n",
    "phone = st.selectbox(\"Has Phone Service?\", [\"No\", \"Yes\"])\n",
    "multiple_lines = st.selectbox(\"Multiple Lines?\", [\"No\", \"Yes\", \"No phone service\"])\n",
    "internet = st.selectbox(\"Internet Service\", [\"DSL\", \"Fiber optic\", \"No\"])\n",
    "online_security = st.selectbox(\"Online Security\", [\"No\", \"Yes\", \"No internet service\"])\n",
    "tech_support = st.selectbox(\"Tech Support\", [\"No\", \"Yes\", \"No internet service\"])\n",
    "contract = st.selectbox(\"Contract Type\", [\"Month-to-month\", \"One year\", \"Two year\"])\n",
    "payment = st.selectbox(\"Payment Method\", [\"Electronic check\", \"Mailed check\", \"Bank transfer (automatic)\", \"Credit card (automatic)\"])\n",
    "monthly_charges = st.number_input(\"Monthly Charges\", 0.0, 150.0, 70.0)\n",
    "total_charges = st.number_input(\"Total Charges\", 0.0, 10000.0, 1000.0)\n",
    "\n",
    "# Submit button\n",
    "if st.button(\"Predict\"):\n",
    "    # Make a DataFrame from inputs (manually one-hot encoded)\n",
    "    input_dict = {\n",
    "        'tenure': tenure,\n",
    "        'MonthlyCharges': monthly_charges,\n",
    "        'TotalCharges': total_charges,\n",
    "        'gender_Male': 1 if gender == 'Male' else 0,\n",
    "        'SeniorCitizen': 1 if senior == 'Yes' else 0,\n",
    "        'Partner_Yes': 1 if partner == 'Yes' else 0,\n",
    "        'Dependents_Yes': 1 if dependents == 'Yes' else 0,\n",
    "        'PhoneService_Yes': 1 if phone == 'Yes' else 0,\n",
    "        'MultipleLines_Yes': 1 if multiple_lines == 'Yes' else 0,\n",
    "        'InternetService_Fiber optic': 1 if internet == 'Fiber optic' else 0,\n",
    "        'InternetService_No': 1 if internet == 'No' else 0,\n",
    "        'OnlineSecurity_Yes': 1 if online_security == 'Yes' else 0,\n",
    "        'TechSupport_Yes': 1 if tech_support == 'Yes' else 0,\n",
    "        'Contract_One year': 1 if contract == 'One year' else 0,\n",
    "        'Contract_Two year': 1 if contract == 'Two year' else 0,\n",
    "        'PaymentMethod_Electronic check': 1 if payment == 'Electronic check' else 0,\n",
    "        'PaymentMethod_Mailed check': 1 if payment == 'Mailed check' else 0,\n",
    "        'PaymentMethod_Credit card (automatic)': 1 if payment == 'Credit card (automatic)' else 0,\n",
    "        'PaymentMethod_Bank transfer (automatic)': 1 if payment == 'Bank transfer (automatic)' else 0,\n",
    "    }\n",
    "\n",
    "    input_df = pd.DataFrame([input_dict])\n",
    "\n",
    "    # Make prediction\n",
    "    prediction = model.predict(input_df)[0]\n",
    "    prob = model.predict_proba(input_df)[0][1]\n",
    "\n",
    "    if prediction == 1:\n",
    "        st.error(f\"⚠️ The customer is likely to churn! (Probability: {prob:.2f})\")\n",
    "    else:\n",
    "        st.success(f\"✅ The customer is likely to stay. (Probability: {prob:.2f})\")\n"
   ]
  },
  {
   "cell_type": "code",
   "execution_count": null,
   "id": "46f1abe8-a3a6-4e1a-85da-2b360d94c1f5",
   "metadata": {},
   "outputs": [],
   "source": []
  }
 ],
 "metadata": {
  "kernelspec": {
   "display_name": "Python [conda env:base] *",
   "language": "python",
   "name": "conda-base-py"
  },
  "language_info": {
   "codemirror_mode": {
    "name": "ipython",
    "version": 3
   },
   "file_extension": ".py",
   "mimetype": "text/x-python",
   "name": "python",
   "nbconvert_exporter": "python",
   "pygments_lexer": "ipython3",
   "version": "3.12.7"
  }
 },
 "nbformat": 4,
 "nbformat_minor": 5
}
